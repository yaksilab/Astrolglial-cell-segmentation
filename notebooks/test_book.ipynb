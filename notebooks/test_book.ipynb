{
 "cells": [
  {
   "cell_type": "code",
   "execution_count": 134,
   "metadata": {},
   "outputs": [],
   "source": [
    "import numpy as np\n",
    "import matplotlib.pyplot as plt\n",
    "import cv2\n",
    "from skimage.segmentation import watershed\n",
    "from skimage.feature import peak_local_max\n",
    "from scipy import ndimage\n",
    "from skimage.morphology import remove_small_objects\n",
    "from skimage.measure import regionprops\n",
    "from skimage import exposure\n",
    "from scipy.ndimage import median_filter\n",
    "import sys\n",
    "sys.path.append('../src')\n",
    "from utils import enhanced_mean_image\n",
    "from scipy import signal\n"
   ]
  },
  {
   "cell_type": "code",
   "execution_count": 149,
   "metadata": {},
   "outputs": [
    {
     "name": "stdout",
     "output_type": "stream",
     "text": [
      "11443.945\n"
     ]
    },
    {
     "ename": "AttributeError",
     "evalue": "'numpy.ndarray' object has no attribute 'equalize_hist'",
     "output_type": "error",
     "traceback": [
      "\u001b[1;31m---------------------------------------------------------------------------\u001b[0m",
      "\u001b[1;31mAttributeError\u001b[0m                            Traceback (most recent call last)",
      "Cell \u001b[1;32mIn[149], line 39\u001b[0m\n\u001b[0;32m     36\u001b[0m mean_image \u001b[38;5;241m=\u001b[39m mean_image \u001b[38;5;241m-\u001b[39m np\u001b[38;5;241m.\u001b[39mmin(mean_image)\n\u001b[0;32m     37\u001b[0m mean_image \u001b[38;5;241m=\u001b[39m mean_image \u001b[38;5;241m/\u001b[39m np\u001b[38;5;241m.\u001b[39mmax(mean_image)\n\u001b[1;32m---> 39\u001b[0m mean_image \u001b[38;5;241m=\u001b[39m \u001b[43mmean_image\u001b[49m\u001b[38;5;241;43m.\u001b[39;49m\u001b[43mequalize_hist\u001b[49m(mean_image)\n\u001b[0;32m     41\u001b[0m plt\u001b[38;5;241m.\u001b[39mimshow(mean_image,cmap\u001b[38;5;241m=\u001b[39m\u001b[38;5;124m'\u001b[39m\u001b[38;5;124mgray\u001b[39m\u001b[38;5;124m'\u001b[39m)\n",
      "\u001b[1;31mAttributeError\u001b[0m: 'numpy.ndarray' object has no attribute 'equalize_hist'"
     ]
    }
   ],
   "source": [
    "\n",
    "# here we will be doing cell segmentation of radial glial cells in the zebra fish brain\n",
    "# The data is a 2d image which is a numpy array that is extracted from the a pipline called suite2p\n",
    "# the data is mean image of a number of images produced from 2p microscopy\n",
    "# you should help me segment the cells in the image\n",
    "# you can use any method you want\n",
    "# you can use any library you want\n",
    "# you can use any algorithm you want\n",
    "# you can use any code you want\n",
    "# you can use any paper you want\n",
    "\n",
    "\n",
    "# load the data\n",
    "ops = np.load('../data/ops.npy', allow_pickle=True).item()\n",
    "mean_image = ops['meanImg_chan2'] # this is the mean image\n",
    "\n",
    "\n",
    "\n",
    "\n",
    "#meimg = enhanced_mean_image(ops=ops)\n",
    "\n",
    "#plt.imshow(meimg,cmap='gray')\n",
    "# lets us do the segmentation bellow\n",
    "\n",
    "# 1. first we will do some preprocessing\n",
    "# 2. then we will do some segmentation\n",
    "# 3. then we will do some postprocessing\n",
    "\n",
    "print(np.max(mean_image))\n",
    "\n",
    "# 1. preprocessing\n",
    "# 1.1. we will do normalization\n",
    "#normalization 0-1\n",
    "mean_image = mean_image - np.min(mean_image)\n",
    "mean_image = mean_image / np.max(mean_image)\n",
    "\n",
    "mean_image = \n",
    "\n",
    "plt.imshow(mean_image,cmap='gray')\n",
    "\n",
    "\n",
    "\n",
    "\n",
    "\n",
    "# plt.imshow(mean_image_enhanced,cmap='gray')\n",
    "# plt.colorbar()\n",
    "# plt.show()\n",
    "\n",
    "# \n",
    "\n"
   ]
  }
 ],
 "metadata": {
  "kernelspec": {
   "display_name": "radial-glial-segmentation",
   "language": "python",
   "name": "python3"
  },
  "language_info": {
   "codemirror_mode": {
    "name": "ipython",
    "version": 3
   },
   "file_extension": ".py",
   "mimetype": "text/x-python",
   "name": "python",
   "nbconvert_exporter": "python",
   "pygments_lexer": "ipython3",
   "version": "3.10.13"
  }
 },
 "nbformat": 4,
 "nbformat_minor": 2
}
